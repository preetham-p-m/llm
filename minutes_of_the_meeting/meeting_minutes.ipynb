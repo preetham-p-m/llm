{
  "nbformat": 4,
  "nbformat_minor": 0,
  "metadata": {
    "colab": {
      "provenance": [],
      "gpuType": "T4",
      "authorship_tag": "ABX9TyPi9xAZ92uA9hoMwEeJ3qsr",
      "include_colab_link": true
    },
    "kernelspec": {
      "name": "python3",
      "display_name": "Python 3"
    },
    "language_info": {
      "name": "python"
    },
    "accelerator": "GPU"
  },
  "cells": [
    {
      "cell_type": "markdown",
      "metadata": {
        "id": "view-in-github",
        "colab_type": "text"
      },
      "source": [
        "<a href=\"https://colab.research.google.com/github/preetham-p-m/llm/blob/main/minutes_of_the_meeting/meeting_minutes.ipynb\" target=\"_parent\"><img src=\"https://colab.research.google.com/assets/colab-badge.svg\" alt=\"Open In Colab\"/></a>"
      ]
    },
    {
      "cell_type": "code",
      "execution_count": null,
      "metadata": {
        "id": "moZLblUXzUDP"
      },
      "outputs": [],
      "source": [
        "!pip install -q requests torch bitsandbytes transformers sentencepiece accelerate genai"
      ]
    },
    {
      "cell_type": "code",
      "source": [
        "import os\n",
        "import requests\n",
        "from IPython.display import Markdown, display, update_display\n",
        "from google import genai\n",
        "from google.genai import types\n",
        "from google.colab import userdata, drive\n",
        "from huggingface_hub import login\n",
        "from transformers import AutoTokenizer, AutoModelForCausalLM, TextStreamer, BitsAndBytesConfig\n",
        "import torch"
      ],
      "metadata": {
        "id": "JGc9CS5ZznC6"
      },
      "execution_count": null,
      "outputs": []
    },
    {
      "cell_type": "code",
      "source": [
        "AUDIO_MODEL = \"whisper-1\"\n",
        "LLAMA = \"meta-llama/Llama-3.1-8B-Instruct\""
      ],
      "metadata": {
        "id": "C6gYJ-GW0zzx"
      },
      "execution_count": null,
      "outputs": []
    },
    {
      "cell_type": "code",
      "source": [
        "drive.mount(\"/content/drive\")\n",
        "audio_filename = \"/content/drive/MyDrive/llm_helpers/meeting.mp3\""
      ],
      "metadata": {
        "id": "3odZroZh1XfX"
      },
      "execution_count": null,
      "outputs": []
    },
    {
      "cell_type": "code",
      "source": [
        "hf_token = userdata.get(\"HUGGINGFACE_API_KEY\")\n",
        "login(hf_token)"
      ],
      "metadata": {
        "id": "4N8Nnetq3kuc"
      },
      "execution_count": null,
      "outputs": []
    },
    {
      "cell_type": "code",
      "source": [
        "gemini_token = userdata.get(\"GEMINI_API_KEY\")\n",
        "client = genai.Client(api_key=gemini_token)"
      ],
      "metadata": {
        "id": "Yjr56ptr4pW9"
      },
      "execution_count": null,
      "outputs": []
    },
    {
      "cell_type": "code",
      "source": [
        "with open(audio_filename, 'rb') as f:\n",
        "    audio_bytes = f.read()\n",
        "\n",
        "response = client.models.generate_content(\n",
        "  model='gemini-2.0-flash',\n",
        "  contents=[\n",
        "    'Describe this audio clip',\n",
        "    types.Part.from_bytes(\n",
        "      data=audio_bytes,\n",
        "      mime_type='audio/mp3',\n",
        "    )\n",
        "  ]\n",
        ")\n",
        "\n",
        "transcription = response.candidates[0].content.parts[0].text"
      ],
      "metadata": {
        "id": "ZdumtQs94yCW"
      },
      "execution_count": null,
      "outputs": []
    },
    {
      "cell_type": "code",
      "source": [
        "system_message = \"You are an assistant that produces minutes of meetings from transcripts, with summary, key discussion points, takeaways and action items with owners, in markdown.\"\n",
        "user_prompt = f\"Below is an extract transcript of a Denver council meeting. Please write minutes in markdown, including a summary with attendees, location and date; discussion points; takeaways; and action items with owners.\\n{transcription}\"\n",
        "\n",
        "messages = [\n",
        "    {\"role\": \"system\", \"content\": system_message},\n",
        "    {\"role\": \"user\", \"content\": user_prompt}\n",
        "  ]"
      ],
      "metadata": {
        "id": "u72tcuCw567q"
      },
      "execution_count": null,
      "outputs": []
    },
    {
      "cell_type": "code",
      "source": [
        "quant_config = BitsAndBytesConfig(\n",
        "    load_in_4bit=True,\n",
        "    bnb_4bit_use_double_quant=True,\n",
        "    bnb_4bit_compute_dtype=torch.bfloat16,\n",
        "    bnb_4bit_quant_type=\"nf4\"\n",
        ")"
      ],
      "metadata": {
        "id": "LkhJlJBf8IAx"
      },
      "execution_count": null,
      "outputs": []
    },
    {
      "cell_type": "code",
      "source": [
        "tokenizer = AutoTokenizer.from_pretrained(LLAMA)\n",
        "tokenizer.pad_token = tokenizer.eos_token\n",
        "inputs = tokenizer.apply_chat_template(messages, return_tensors=\"pt\").to(\"cuda\")\n",
        "streamer = TextStreamer(tokenizer)\n",
        "model = AutoModelForCausalLM.from_pretrained(LLAMA, device_map=\"auto\", quantization_config=quant_config)\n",
        "outputs = model.generate(inputs, max_new_tokens=2000, streamer=streamer)"
      ],
      "metadata": {
        "id": "Plrv6s6v8J1c"
      },
      "execution_count": null,
      "outputs": []
    },
    {
      "cell_type": "code",
      "source": [
        "response = tokenizer.decode(outputs[0])\n",
        "response"
      ],
      "metadata": {
        "id": "vn3e0jM38L-v"
      },
      "execution_count": null,
      "outputs": []
    },
    {
      "cell_type": "code",
      "source": [
        "display(Markdown(response))"
      ],
      "metadata": {
        "id": "hbWRoKtA8Nxd"
      },
      "execution_count": null,
      "outputs": []
    },
    {
      "cell_type": "markdown",
      "source": [
        "# Output\n",
        "\n",
        "**Minutes of the Special Meeting of the Alameda City Council**\n",
        "===========================================================\n",
        "\n",
        "### Summary\n",
        "#### Attendees:\n",
        "- Mayor\n",
        "- City Clerk\n",
        "- Members of the Alameda City Council\n",
        "#### Location:\n",
        "- Virtual meeting via Zoom\n",
        "#### Date:\n",
        "- [Insert Date]\n",
        "\n",
        "**Summary:** The special meeting of the Alameda City Council was held via Zoom to discuss amendments to the City Charter, specifically addressing potential measures related to Council interference. The meeting aimed to provide direction on the proposed amendments, emphasizing the importance of aligning the City Charter with current needs and realities.\n",
        "\n",
        "### Key Discussion Points\n",
        "* Overview of the meeting process and public comment submission methods\n",
        "* Importance of updating the City Charter to reflect current realities and needs\n",
        "* Acknowledgement of past turbulent events and commitment to restoring public trust\n",
        "* Discussion on providing direction on potential measures amending the city charter\n",
        "\n",
        "### Takeaways\n",
        "* The City Charter requires updates to align with current needs and realities.\n",
        "* The Council is committed to restoring public trust and addressing governance issues.\n",
        "* Utilizing technology, such as Zoom, enables the Council to maintain accessibility and facilitate public participation.\n",
        "\n",
        "### Action Items\n",
        "* **Owner: City Clerk**\n",
        "  - Finalize the proposed amendments to the City Charter for review and discussion by the Council.\n",
        "* **Owner: Mayor**\n",
        "  - Provide a detailed report on the current state of the City Charter and its alignment with current needs and realities.\n",
        "* **Owner: Council Members**\n",
        "  - Review and provide feedback on the proposed amendments to the City Charter.\n",
        "  - Collaborate with the City Clerk to ensure a smooth and accessible meeting process."
      ],
      "metadata": {
        "id": "6fAXRTMgCTRt"
      }
    },
    {
      "cell_type": "code",
      "source": [],
      "metadata": {
        "id": "76lngaCvCYdC"
      },
      "execution_count": null,
      "outputs": []
    }
  ]
}