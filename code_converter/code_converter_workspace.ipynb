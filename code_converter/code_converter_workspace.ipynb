{
 "cells": [
  {
   "cell_type": "code",
   "execution_count": null,
   "id": "6d46e19c",
   "metadata": {},
   "outputs": [],
   "source": [
    "import os\n",
    "import io\n",
    "import sys\n",
    "from dotenv import load_dotenv\n",
    "from google import genai\n",
    "from IPython.display import Markdown, display, update_display\n",
    "import gradio as gr\n",
    "import subprocess"
   ]
  },
  {
   "cell_type": "code",
   "execution_count": null,
   "id": "b562cbc1",
   "metadata": {},
   "outputs": [],
   "source": [
    "load_dotenv(override=True)"
   ]
  },
  {
   "cell_type": "code",
   "execution_count": null,
   "id": "7c1c5403",
   "metadata": {},
   "outputs": [],
   "source": [
    "GEMINI_API_KEY = os.getenv(key=\"GEMINI_API_KEY\")\n",
    "\n",
    "if GEMINI_API_KEY:\n",
    "    print(\"GEMINI_API_KEY found.\")\n",
    "else:\n",
    "    raise \"API Key not found.\"\n",
    "\n",
    "gemini = genai.Client(api_key=GEMINI_API_KEY)"
   ]
  },
  {
   "cell_type": "code",
   "execution_count": null,
   "id": "f4d53dab",
   "metadata": {},
   "outputs": [],
   "source": [
    "GEMINI_2_0_MODEL = \"gemini-2.0-flash\"\n",
    "\n",
    "ACTIVE_MODEL = GEMINI_2_0_MODEL"
   ]
  },
  {
   "cell_type": "code",
   "execution_count": null,
   "id": "8b9b67ef",
   "metadata": {},
   "outputs": [],
   "source": [
    "system_message = \"You are an assistant that reimplements Python code in high performance C++ for an M1 Mac. \"\n",
    "system_message += \"Respond only with C++ code; use comments sparingly and do not provide any explanation other than occasional comments. \"\n",
    "system_message += \"The C++ response needs to produce an identical output in the fastest possible time.\""
   ]
  },
  {
   "cell_type": "code",
   "execution_count": null,
   "id": "d13f146c",
   "metadata": {},
   "outputs": [],
   "source": [
    "def user_prompt_for(python):\n",
    "    user_prompt = \"Rewrite this Python code in C++ with the fastest possible implementation that produces identical output in the least time. \"\n",
    "    user_prompt += \"Respond only with C++ code; do not explain your work other than a few comments. \"\n",
    "    user_prompt += \"Pay attention to number types to ensure no int overflows. Remember to #include all necessary C++ packages such as iomanip.\\n\\n\"\n",
    "    user_prompt += python\n",
    "    return user_prompt"
   ]
  },
  {
   "cell_type": "code",
   "execution_count": null,
   "id": "f9da083e",
   "metadata": {},
   "outputs": [],
   "source": [
    "def messages_for(python):\n",
    "    return [{\"role\": \"user\", \"parts\": [{\"text\": user_prompt_for(python)}]}]"
   ]
  },
  {
   "cell_type": "code",
   "execution_count": null,
   "id": "a8133d9e",
   "metadata": {},
   "outputs": [],
   "source": [
    "def write_output(cpp):\n",
    "    code = cpp.replace(\"```cpp\",\"\").replace(\"```\",\"\")\n",
    "    with open(\"code_converter/cpp/optimized_workspace.cpp\", \"w\") as f:\n",
    "        f.write(code)"
   ]
  },
  {
   "cell_type": "code",
   "execution_count": null,
   "id": "ce5d467c",
   "metadata": {},
   "outputs": [],
   "source": [
    "def optimize_code(python):\n",
    "    response = gemini.models.generate_content(\n",
    "      model=ACTIVE_MODEL,\n",
    "      contents= messages_for(python),\n",
    "      config={\"system_instruction\": {\"text\": system_message}}\n",
    "    )\n",
    "\n",
    "    write_output(response.candidates[0].content.parts[0].text)"
   ]
  },
  {
   "cell_type": "code",
   "execution_count": null,
   "id": "7f0ed4c8",
   "metadata": {},
   "outputs": [],
   "source": [
    "pi = \"\"\"\n",
    "import time\n",
    "\n",
    "def calculate(iterations, param1, param2):\n",
    "    result = 1.0\n",
    "    for i in range(1, iterations+1):\n",
    "        j = i * param1 - param2\n",
    "        result -= (1/j)\n",
    "        j = i * param1 + param2\n",
    "        result += (1/j)\n",
    "    return result\n",
    "\n",
    "start_time = time.time()\n",
    "result = calculate(100_000_000, 4, 1) * 4\n",
    "end_time = time.time()\n",
    "\n",
    "print(f\"Result: {result:.12f}\")\n",
    "print(f\"Execution Time: {(end_time - start_time):.6f} seconds\")\n",
    "\"\"\""
   ]
  },
  {
   "cell_type": "code",
   "execution_count": null,
   "id": "c531876b",
   "metadata": {},
   "outputs": [],
   "source": [
    "exec(pi)"
   ]
  },
  {
   "cell_type": "markdown",
   "id": "bb0cb24d",
   "metadata": {},
   "source": [
    "- Result: 3.141592658589\n",
    "- Execution Time: 8.595519 seconds"
   ]
  },
  {
   "cell_type": "code",
   "execution_count": null,
   "id": "435785b5",
   "metadata": {},
   "outputs": [],
   "source": [
    "optimize_code(pi)"
   ]
  },
  {
   "cell_type": "code",
   "execution_count": null,
   "id": "83245b58",
   "metadata": {},
   "outputs": [],
   "source": [
    "!clang++ -std=c++17 -march=armv8.3-a -o code_converter/cpp/optimized_workspace code_converter/cpp/optimized_workspace.cpp\n",
    "!./code_converter/cpp/optimized_workspace"
   ]
  },
  {
   "cell_type": "markdown",
   "id": "71f55210",
   "metadata": {},
   "source": [
    "- Result: 3.141592658589\n",
    "- Execution Time: 0.698493 seconds"
   ]
  },
  {
   "cell_type": "code",
   "execution_count": null,
   "id": "47afcbd4",
   "metadata": {},
   "outputs": [],
   "source": [
    "python_hard = \"\"\"# Be careful to support large number sizes\n",
    "\n",
    "def lcg(seed, a=1664525, c=1013904223, m=2**32):\n",
    "    value = seed\n",
    "    while True:\n",
    "        value = (a * value + c) % m\n",
    "        yield value\n",
    "\n",
    "def max_sub_array_sum(n, seed, min_val, max_val):\n",
    "    lcg_gen = lcg(seed)\n",
    "    random_numbers = [next(lcg_gen) % (max_val - min_val + 1) + min_val for _ in range(n)]\n",
    "    max_sum = float('-inf')\n",
    "    for i in range(n):\n",
    "        current_sum = 0\n",
    "        for j in range(i, n):\n",
    "            current_sum += random_numbers[j]\n",
    "            if current_sum > max_sum:\n",
    "                max_sum = current_sum\n",
    "    return max_sum\n",
    "\n",
    "def total_max_sub_array_sum(n, initial_seed, min_val, max_val):\n",
    "    total_sum = 0\n",
    "    lcg_gen = lcg(initial_seed)\n",
    "    for _ in range(20):\n",
    "        seed = next(lcg_gen)\n",
    "        total_sum += max_sub_array_sum(n, seed, min_val, max_val)\n",
    "    return total_sum\n",
    "\n",
    "# Parameters\n",
    "n = 10000         # Number of random numbers\n",
    "initial_seed = 42 # Initial seed for the LCG\n",
    "min_val = -10     # Minimum value of random numbers\n",
    "max_val = 10      # Maximum value of random numbers\n",
    "\n",
    "# Timing the function\n",
    "import time\n",
    "start_time = time.time()\n",
    "result = total_max_sub_array_sum(n, initial_seed, min_val, max_val)\n",
    "end_time = time.time()\n",
    "\n",
    "print(\"Total Maximum Sub-array Sum (20 runs):\", result)\n",
    "print(\"Execution Time: {:.6f} seconds\".format(end_time - start_time))\n",
    "\"\"\""
   ]
  },
  {
   "cell_type": "code",
   "execution_count": null,
   "id": "0c1890a4",
   "metadata": {},
   "outputs": [],
   "source": [
    "exec(python_hard)"
   ]
  },
  {
   "cell_type": "markdown",
   "id": "f21dfd7c",
   "metadata": {},
   "source": [
    "- Total Maximum Subarray Sum (20 runs): 10980\n",
    "- Execution Time: 24.565041 seconds"
   ]
  },
  {
   "cell_type": "code",
   "execution_count": null,
   "id": "a72ea8fc",
   "metadata": {},
   "outputs": [],
   "source": [
    "optimize_code(python_hard)"
   ]
  },
  {
   "cell_type": "code",
   "execution_count": null,
   "id": "b8ebcfc6",
   "metadata": {},
   "outputs": [],
   "source": [
    "!clang++ -std=c++17 -march=armv8.3-a -o code_converter/cpp/optimized_workspace code_converter/cpp/optimized_workspace.cpp\n",
    "!./code_converter/cpp/optimized_workspace"
   ]
  },
  {
   "cell_type": "markdown",
   "id": "57bb9271",
   "metadata": {},
   "source": [
    "- Total Maximum Subarray Sum (20 runs): 3480\n",
    "- Execution Time: 2.229859 seconds"
   ]
  },
  {
   "cell_type": "code",
   "execution_count": null,
   "id": "7e54a173",
   "metadata": {},
   "outputs": [],
   "source": []
  }
 ],
 "metadata": {
  "kernelspec": {
   "display_name": "llms",
   "language": "python",
   "name": "python3"
  },
  "language_info": {
   "codemirror_mode": {
    "name": "ipython",
    "version": 3
   },
   "file_extension": ".py",
   "mimetype": "text/x-python",
   "name": "python",
   "nbconvert_exporter": "python",
   "pygments_lexer": "ipython3",
   "version": "3.11.12"
  }
 },
 "nbformat": 4,
 "nbformat_minor": 5
}
