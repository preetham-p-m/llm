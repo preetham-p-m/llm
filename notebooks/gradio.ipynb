{
 "cells": [
  {
   "cell_type": "code",
   "execution_count": null,
   "id": "90a645b7",
   "metadata": {},
   "outputs": [],
   "source": [
    "import os\n",
    "import requests\n",
    "from bs4 import BeautifulSoup\n",
    "from typing import List\n",
    "from dotenv import load_dotenv\n",
    "from openai import OpenAI\n",
    "from google import genai\n",
    "import anthropic\n",
    "from IPython.display import Markdown, display\n",
    "import re"
   ]
  },
  {
   "cell_type": "code",
   "execution_count": null,
   "id": "8b972a0e",
   "metadata": {},
   "outputs": [],
   "source": [
    "load_dotenv()\n",
    "\n",
    "gemini_api_key = os.getenv(\"GEMINI_API_KEY\")"
   ]
  },
  {
   "cell_type": "code",
   "execution_count": null,
   "id": "8e0c9cb4",
   "metadata": {},
   "outputs": [],
   "source": [
    "import gradio as gr"
   ]
  },
  {
   "cell_type": "code",
   "execution_count": null,
   "id": "b7ffeda3",
   "metadata": {},
   "outputs": [],
   "source": [
    "openAi = OpenAI()\n",
    "gemini = genai.Client(api_key=gemini_api_key)"
   ]
  },
  {
   "cell_type": "code",
   "execution_count": null,
   "id": "2989d33c",
   "metadata": {},
   "outputs": [],
   "source": [
    "def strip_markdown(text):\n",
    "    text = re.sub(r\"\\*\\*(.*?)\\*\\*\", r\"\\1\", text)\n",
    "    text = re.sub(r\"\\*(.*?)\\*\", r\"\\1\", text)\n",
    "    text = re.sub(r\"`(.*?)`\", r\"\\1\", text)\n",
    "    return text.strip()"
   ]
  },
  {
   "cell_type": "code",
   "execution_count": null,
   "id": "ae7373a4",
   "metadata": {},
   "outputs": [],
   "source": [
    "def get_result(text, system_prompt=\"\"):\n",
    "    result = gemini.models.generate_content(\n",
    "        model=\"gemini-2.0-flash\",\n",
    "        contents=text,\n",
    "        config={\n",
    "            \"system_instruction\": [system_prompt],\n",
    "        },\n",
    "    )\n",
    "\n",
    "    return result.candidates[0].content.parts[0].text\n",
    "\n",
    "\n",
    "def get_result_stream(text, system_prompt=\"\"):\n",
    "    stream = gemini.models.generate_content_stream(\n",
    "        model=\"gemini-2.0-flash\",\n",
    "        contents=text,\n",
    "        config={\n",
    "            \"system_instruction\": [system_prompt],\n",
    "        },\n",
    "    )\n",
    "\n",
    "    output = \"\"\n",
    "    for chunk in stream:\n",
    "        output += chunk.candidates[0].content.parts[0].text or \"\"\n",
    "        yield output"
   ]
  },
  {
   "cell_type": "code",
   "execution_count": null,
   "id": "653a68a8",
   "metadata": {},
   "outputs": [],
   "source": [
    "view = gr.Interface(\n",
    "    fn=get_result,\n",
    "    inputs=[gr.Textbox(label=\"Your Message\", lines=5)],\n",
    "    outputs=[gr.Markdown(label=\"Response\")],\n",
    "    flagging_mode=\"never\",\n",
    ")\n",
    "view.launch()"
   ]
  },
  {
   "cell_type": "code",
   "execution_count": null,
   "id": "cd125781",
   "metadata": {},
   "outputs": [],
   "source": []
  }
 ],
 "metadata": {
  "kernelspec": {
   "display_name": "llms",
   "language": "python",
   "name": "python3"
  },
  "language_info": {
   "codemirror_mode": {
    "name": "ipython",
    "version": 3
   },
   "file_extension": ".py",
   "mimetype": "text/x-python",
   "name": "python",
   "nbconvert_exporter": "python",
   "pygments_lexer": "ipython3",
   "version": "3.11.12"
  }
 },
 "nbformat": 4,
 "nbformat_minor": 5
}
