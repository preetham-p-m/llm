{
 "cells": [
  {
   "cell_type": "code",
   "execution_count": null,
   "id": "c8943d61",
   "metadata": {},
   "outputs": [],
   "source": [
    "import os\n",
    "import requests\n",
    "import json\n",
    "from typing import List\n",
    "from dotenv import load_dotenv\n",
    "from bs4 import BeautifulSoup\n",
    "from IPython.display import Markdown, display, update_display\n",
    "from openai import OpenAI\n",
    "from google import genai\n",
    "from google.genai.types import *\n",
    "from typing import List\n",
    "import gradio as gr"
   ]
  },
  {
   "cell_type": "code",
   "execution_count": null,
   "id": "63441aa8",
   "metadata": {},
   "outputs": [],
   "source": [
    "load_dotenv()\n",
    "\n",
    "API_KEY = os.getenv(key=\"GEMINI_API_KEY\")\n",
    "\n",
    "if API_KEY:\n",
    "    print(\"API_KEY found.\")\n",
    "else:\n",
    "    raise \"API Key not found.\"\n",
    "\n",
    "gemini = genai.Client(api_key=API_KEY)"
   ]
  },
  {
   "cell_type": "code",
   "execution_count": null,
   "id": "abdf4aef",
   "metadata": {},
   "outputs": [],
   "source": [
    "'''\n",
    "Contents Example\n",
    "[\n",
    "    {\"role\": \"user\", \"parts\": [{\"text\": \"What is your name? My Name is real x\"}]},\n",
    "    {\n",
    "        \"role\": \"assistant\",\n",
    "        \"parts\": [{\"text\": \"I am a large language model, trained by Google.\"}],\n",
    "    },\n",
    "    {\"role\": \"user\", \"parts\": [{\"text\": \"Tell My Name\"}]},\n",
    "]\n",
    "'''\n",
    "\n",
    "\n",
    "def generate_content(contents, system_prompt):\n",
    "    response = gemini.models.generate_content(\n",
    "        model=\"gemini-2.0-flash\",\n",
    "        contents=contents,\n",
    "        config={\"system_instruction\": {\"text\": system_prompt}},\n",
    "    )\n",
    "\n",
    "    return response.candidates[0].content.parts[0].text\n",
    "\n",
    "\n",
    "def generate_content_stream(contents, system_prompt):\n",
    "    response = gemini.models.generate_content_stream(\n",
    "        model=\"gemini-2.0-flash\",\n",
    "        contents=contents,\n",
    "        config={\"system_instruction\": {\"text\": system_prompt}},\n",
    "    )\n",
    "\n",
    "    for chunk in response:\n",
    "        yield chunk.candidates[0].content.parts[0].text or \"\"\n",
    "\n",
    "\n",
    "def getChatItem(role, prompt):\n",
    "    # Content(role=role, parts=[Part(text=prompt)])  # This also works\n",
    "    return {\"role\": role, \"parts\": [{\"text\": prompt}]}"
   ]
  },
  {
   "cell_type": "code",
   "execution_count": null,
   "id": "8bf6ddd2",
   "metadata": {},
   "outputs": [],
   "source": [
    "def chat(user_prompt, history):\n",
    "    system_prompt = \"You are a helpful assistant in a clothes store. You should try to gently encourage \\\n",
    "        the customer to try items that are on sale. Hats are 60% off, and most other items are 50% off. \\\n",
    "        For example, if the customer says 'I'm looking to buy a hat', \\\n",
    "        you could reply something like, 'Wonderful - we have lots of hats - including several that are part of our sales event.'\\\n",
    "        Encourage the customer to buy hats if they are unsure what to get.\"\n",
    "\n",
    "    contents = []\n",
    "    for item in history:\n",
    "        contents.append(getChatItem(item['role'], item['content']))\n",
    "    contents.append(getChatItem(\"user\", user_prompt))\n",
    "\n",
    "    return generate_content(contents, system_prompt)"
   ]
  },
  {
   "cell_type": "code",
   "execution_count": null,
   "id": "f993c2c1",
   "metadata": {},
   "outputs": [],
   "source": [
    "gr.ChatInterface(fn=chat, type=\"messages\").launch()"
   ]
  },
  {
   "cell_type": "code",
   "execution_count": null,
   "id": "81e2c72b",
   "metadata": {},
   "outputs": [],
   "source": []
  }
 ],
 "metadata": {
  "kernelspec": {
   "display_name": "llms",
   "language": "python",
   "name": "python3"
  },
  "language_info": {
   "codemirror_mode": {
    "name": "ipython",
    "version": 3
   },
   "file_extension": ".py",
   "mimetype": "text/x-python",
   "name": "python",
   "nbconvert_exporter": "python",
   "pygments_lexer": "ipython3",
   "version": "3.11.12"
  }
 },
 "nbformat": 4,
 "nbformat_minor": 5
}
