{
 "cells": [
  {
   "cell_type": "code",
   "execution_count": null,
   "id": "1532eee1",
   "metadata": {},
   "outputs": [],
   "source": [
    "import os\n",
    "from dotenv import load_dotenv\n",
    "from google import genai\n",
    "from google.genai.types import *\n",
    "import gradio as gr"
   ]
  },
  {
   "cell_type": "code",
   "execution_count": null,
   "id": "59e96494",
   "metadata": {},
   "outputs": [],
   "source": [
    "load_dotenv()\n",
    "\n",
    "API_KEY = os.getenv(key=\"GEMINI_API_KEY\")\n",
    "\n",
    "if API_KEY:\n",
    "    print(\"API_KEY found.\")\n",
    "else:\n",
    "    raise \"API Key not found.\"\n",
    "\n",
    "gemini = genai.Client(api_key=API_KEY)"
   ]
  },
  {
   "cell_type": "code",
   "execution_count": null,
   "id": "7482d6c9",
   "metadata": {},
   "outputs": [],
   "source": [
    "# Let's start by making a useful function\n",
    "\n",
    "ticket_prices = {\"london\": \"$799\", \"paris\": \"$899\", \"tokyo\": \"$1400\", \"berlin\": \"$499\"}\n",
    "\n",
    "\n",
    "def get_ticket_price(destination_city):\n",
    "    print(f\"Tool get_ticket_price called for {destination_city}\")\n",
    "    city = destination_city.lower()\n",
    "    return ticket_prices.get(city, \"Unknown\")\n",
    "\n",
    "price_function = {\n",
    "    \"name\": \"get_ticket_price\",\n",
    "    \"description\": \"Get the price of a return ticket to the destination city. Call this whenever you need to know the ticket price, for example when a customer asks 'How much is a ticket to this city'\",\n",
    "    \"parameters\": {\n",
    "        \"type\": \"object\",\n",
    "        \"properties\": {\n",
    "            \"destination_city\": {\n",
    "                \"type\": \"string\",\n",
    "                \"description\": \"The city that the customer wants to travel to\",\n",
    "            },\n",
    "        },\n",
    "        \"required\": [\"destination_city\"],\n",
    "    },\n",
    "}"
   ]
  },
  {
   "cell_type": "code",
   "execution_count": null,
   "id": "3c6a8419",
   "metadata": {},
   "outputs": [],
   "source": []
  },
  {
   "cell_type": "code",
   "execution_count": null,
   "id": "70f28641",
   "metadata": {},
   "outputs": [],
   "source": [
    "tools = {\"function_declarations\": [price_function]}\n",
    "\n",
    "def handle_tool_call(tool_call):\n",
    "    city = tool_call.args.get(\"destination_city\")\n",
    "    return get_ticket_price(city)"
   ]
  },
  {
   "cell_type": "code",
   "execution_count": null,
   "id": "10fc78c5",
   "metadata": {},
   "outputs": [],
   "source": [
    "def get_chat_item(role, prompt):\n",
    "    return {\"role\": role, \"parts\": [{\"text\": prompt}]}\n",
    "\n",
    "\n",
    "def get_function_item(tool_call):\n",
    "    return {\"role\": \"model\", \"parts\": [{\"function_call\": tool_call}]}\n",
    "\n",
    "\n",
    "def generate_content(contents, system_prompt):\n",
    "    response = gemini.models.generate_content(\n",
    "        model=\"gemini-2.0-flash\",\n",
    "        contents=contents,\n",
    "        config={\"system_instruction\": {\"text\": system_prompt}, \"tools\": [tools]},\n",
    "    )\n",
    "\n",
    "    while response.candidates[0].content.parts[0].function_call:\n",
    "        tool_call = response.candidates[0].content.parts[0].function_call\n",
    "        function_response = handle_tool_call(tool_call)\n",
    "\n",
    "        contents.append(get_function_item(tool_call))\n",
    "        contents.append(get_chat_item(\"user\", function_response))\n",
    "\n",
    "        response = gemini.models.generate_content(\n",
    "            model=\"gemini-2.0-flash\",\n",
    "            contents=contents,\n",
    "            config={\n",
    "                \"system_instruction\": {\"text\": system_prompt},\n",
    "                \"tools\": [tools],\n",
    "            },\n",
    "        )\n",
    "\n",
    "    return response.candidates[0].content.parts[0].text"
   ]
  },
  {
   "cell_type": "code",
   "execution_count": null,
   "id": "7ffec2db",
   "metadata": {},
   "outputs": [],
   "source": [
    "def chat(user_prompt, history):\n",
    "    system_message = \"You are a helpful assistant for an Airline called FlightAI. Give short, courteous answers, no more than 1 sentence. Always be accurate. If you don't know the answer, say so.\"\n",
    "\n",
    "    contents = []\n",
    "    for item in history:\n",
    "        contents.append(get_chat_item(item[\"role\"], item[\"content\"]))\n",
    "    contents.append(get_chat_item(\"user\", user_prompt))\n",
    "\n",
    "    return generate_content(contents, system_message)"
   ]
  },
  {
   "cell_type": "code",
   "execution_count": null,
   "id": "3d6ab880",
   "metadata": {},
   "outputs": [],
   "source": [
    "gr.ChatInterface(fn=chat, type=\"messages\").launch()"
   ]
  },
  {
   "cell_type": "code",
   "execution_count": null,
   "id": "9d61f4da",
   "metadata": {},
   "outputs": [],
   "source": []
  }
 ],
 "metadata": {
  "kernelspec": {
   "display_name": "llms",
   "language": "python",
   "name": "python3"
  },
  "language_info": {
   "codemirror_mode": {
    "name": "ipython",
    "version": 3
   },
   "file_extension": ".py",
   "mimetype": "text/x-python",
   "name": "python",
   "nbconvert_exporter": "python",
   "pygments_lexer": "ipython3",
   "version": "3.11.12"
  }
 },
 "nbformat": 4,
 "nbformat_minor": 5
}
