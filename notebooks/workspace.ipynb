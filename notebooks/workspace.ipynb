{
 "cells": [
  {
   "cell_type": "code",
   "execution_count": null,
   "id": "7a7f334c",
   "metadata": {},
   "outputs": [],
   "source": [
    "import os\n",
    "import requests\n",
    "import json\n",
    "from typing import List\n",
    "from dotenv import load_dotenv\n",
    "from bs4 import BeautifulSoup\n",
    "from IPython.display import Markdown, display, update_display\n",
    "from openai import OpenAI\n",
    "from google import genai\n",
    "from google.genai.types import *\n",
    "from typing import List"
   ]
  },
  {
   "cell_type": "code",
   "execution_count": null,
   "id": "62f172e0",
   "metadata": {},
   "outputs": [],
   "source": [
    "load_dotenv()\n",
    "\n",
    "API_KEY = os.getenv(key=\"GEMINI_API_KEY\")\n",
    "\n",
    "if API_KEY:\n",
    "    print(\"API_KEY found.\")\n",
    "else:\n",
    "    raise \"API Key not found.\"\n",
    "\n",
    "gemini = genai.Client(api_key=API_KEY)"
   ]
  },
  {
   "cell_type": "code",
   "execution_count": null,
   "id": "8b2fcc1e",
   "metadata": {},
   "outputs": [],
   "source": [
    "response = gemini.models.generate_content(\n",
    "    model=\"gemini-2.0-flash\",\n",
    "    contents=[\n",
    "        {\"role\": \"user\", \"parts\": [{\"text\": \"What is your name? My Name is real x\"}]},\n",
    "        {\n",
    "            \"role\": \"assistant\",\n",
    "            \"parts\": [{\"text\": \"I am a large language model, trained by Google.\"}],\n",
    "        },\n",
    "        {\"role\": \"user\", \"parts\": [{\"text\": \"Tell My Name\"}]},\n",
    "    ],\n",
    ")\n",
    "response.candidates[0].content.parts[0].text"
   ]
  },
  {
   "cell_type": "code",
   "execution_count": null,
   "id": "1aeb6d89",
   "metadata": {},
   "outputs": [],
   "source": []
  }
 ],
 "metadata": {
  "kernelspec": {
   "display_name": "llms",
   "language": "python",
   "name": "python3"
  },
  "language_info": {
   "codemirror_mode": {
    "name": "ipython",
    "version": 3
   },
   "file_extension": ".py",
   "mimetype": "text/x-python",
   "name": "python",
   "nbconvert_exporter": "python",
   "pygments_lexer": "ipython3",
   "version": "3.11.12"
  }
 },
 "nbformat": 4,
 "nbformat_minor": 5
}
