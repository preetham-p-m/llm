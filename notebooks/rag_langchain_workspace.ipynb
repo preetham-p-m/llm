{
 "cells": [
  {
   "cell_type": "code",
   "execution_count": null,
   "id": "d20012b9",
   "metadata": {},
   "outputs": [],
   "source": [
    "import os\n",
    "import glob\n",
    "from google import genai\n",
    "from google.genai import types\n",
    "from dotenv import load_dotenv\n",
    "import gradio as gr"
   ]
  },
  {
   "cell_type": "code",
   "execution_count": null,
   "id": "a9004f0e",
   "metadata": {},
   "outputs": [],
   "source": [
    "from langchain.document_loaders import DirectoryLoader, TextLoader\n",
    "from langchain.text_splitter import CharacterTextSplitter\n",
    "from langchain_google_genai.embeddings import GoogleGenerativeAIEmbeddings\n",
    "from langchain_openai.embeddings import OpenAIEmbeddings\n",
    "from langchain.schema import Document\n",
    "from langchain_chroma import Chroma\n",
    "import numpy as np\n",
    "from sklearn.manifold import TSNE\n",
    "import plotly.graph_objects as go\n",
    "import time\n",
    "from chromadb import Documents, EmbeddingFunction, Embeddings\n",
    "import chromadb"
   ]
  },
  {
   "cell_type": "code",
   "execution_count": null,
   "id": "9f1b2a2e",
   "metadata": {},
   "outputs": [],
   "source": [
    "load_dotenv()\n",
    "\n",
    "GEMINI_API_KEY = os.getenv(\"GEMINI_API_KEY\")\n",
    "gemini = genai.Client(api_key=GEMINI_API_KEY)"
   ]
  },
  {
   "cell_type": "code",
   "execution_count": null,
   "id": "4c079d44",
   "metadata": {},
   "outputs": [],
   "source": [
    "MODEL = \"gemini-2.0-flash\"\n",
    "db_name = \"vector_db\"\n",
    "EMBEDDING_MODEL = \"models/gemini-embedding-exp-03-07\""
   ]
  },
  {
   "cell_type": "code",
   "execution_count": null,
   "id": "510d7a1c",
   "metadata": {},
   "outputs": [],
   "source": [
    "folders = glob.glob(\"./notebooks/knowledge-base-mini/*\")\n",
    "text_loader_kwargs = {\"encoding\": \"utf-8\"}\n",
    "\n",
    "documents = []\n",
    "for folder in folders:\n",
    "    doc_type = os.path.basename(folder)\n",
    "    loader = DirectoryLoader(\n",
    "        folder,\n",
    "        glob=\"**/*.md\",\n",
    "        loader_cls=TextLoader,\n",
    "        loader_kwargs=text_loader_kwargs,\n",
    "    )\n",
    "    folder_docs = loader.load()\n",
    "\n",
    "    for doc in folder_docs:\n",
    "        doc.metadata[\"doc_type\"] = doc_type\n",
    "        documents.append(doc)\n",
    "\n"
   ]
  },
  {
   "cell_type": "code",
   "execution_count": null,
   "id": "a1d20aad",
   "metadata": {},
   "outputs": [],
   "source": [
    "text_splitter = CharacterTextSplitter(chunk_size=1000, chunk_overlap=200)\n",
    "chunks = text_splitter.split_documents(documents)"
   ]
  },
  {
   "cell_type": "code",
   "execution_count": null,
   "id": "6f2758cc",
   "metadata": {},
   "outputs": [],
   "source": [
    "doc_types = set(chunk.metadata[\"doc_type\"] for chunk in chunks)\n",
    "print(f\"Document types found: {', '.join(doc_types)}\")\n",
    "len(chunks)"
   ]
  },
  {
   "cell_type": "code",
   "execution_count": null,
   "id": "f66eb1d8",
   "metadata": {},
   "outputs": [],
   "source": [
    "embeddings = GoogleGenerativeAIEmbeddings(\n",
    "    google_api_key=GEMINI_API_KEY, model=EMBEDDING_MODEL\n",
    ")\n",
    "\n",
    "open_ai_embeddings = OpenAIEmbeddings(max_retries=3, timeout=30)"
   ]
  },
  {
   "cell_type": "code",
   "execution_count": null,
   "id": "8646d2ec",
   "metadata": {},
   "outputs": [],
   "source": [
    "if os.path.exists(db_name):\n",
    "    Chroma(persist_directory=db_name, embedding_function=embeddings).delete_collection()"
   ]
  },
  {
   "cell_type": "code",
   "execution_count": null,
   "id": "61608986",
   "metadata": {},
   "outputs": [],
   "source": [
    "vector_store = Chroma.from_documents(\n",
    "    documents=documents[0: min(len(documents), 5)], embedding=embeddings, persist_directory=db_name\n",
    ")"
   ]
  },
  {
   "cell_type": "code",
   "execution_count": null,
   "id": "fab6ce04",
   "metadata": {},
   "outputs": [],
   "source": [
    "vector_store._collection.count()"
   ]
  },
  {
   "cell_type": "code",
   "execution_count": null,
   "id": "798574c6",
   "metadata": {},
   "outputs": [],
   "source": [
    "collection = vector_store._collection\n",
    "sample_embedding = collection.get(limit=1, include=[\"embeddings\"])[\"embeddings\"][0]\n",
    "dimensions = len(sample_embedding)\n",
    "print(f\"The vector has {dimensions} dimensions.\")"
   ]
  },
  {
   "cell_type": "code",
   "execution_count": null,
   "id": "c4f4b161",
   "metadata": {},
   "outputs": [],
   "source": [
    "result = collection.get(include=[\"embeddings\", \"documents\", \"metadatas\"])\n",
    "vectors = np.array(result[\"embeddings\"])\n",
    "res_documents = result[\"documents\"]\n",
    "doc_types_other = [metadata[\"doc_type\"] for metadata in result[\"metadatas\"]]\n",
    "colors = [\n",
    "    [\"blue\", \"green\", \"red\", \"orange\"][\n",
    "        [\"products\", \"employees\", \"contracts\", \"company\"].index(t)\n",
    "    ]\n",
    "    for t in doc_types\n",
    "]"
   ]
  },
  {
   "cell_type": "code",
   "execution_count": null,
   "id": "5a401f82",
   "metadata": {},
   "outputs": [],
   "source": [
    "tsne = TSNE(n_components=2, random_state=40, perplexity=5)\n",
    "reduced_vectors = tsne.fit_transform(vectors)\n",
    "\n",
    "# Create the 2D scatter plot\n",
    "fig = go.Figure(\n",
    "    data=[\n",
    "        go.Scatter(\n",
    "            x=reduced_vectors[:, 0],\n",
    "            y=reduced_vectors[:, 1],\n",
    "            mode=\"markers\",\n",
    "            marker=dict(size=5, color=colors, opacity=0.8),\n",
    "            text=[\n",
    "                f\"Type: {t}<br>Text: {d[:100]}...\"\n",
    "                for t, d in zip(doc_types, res_documents)\n",
    "            ],\n",
    "            hoverinfo=\"text\",\n",
    "        )\n",
    "    ]\n",
    ")\n",
    "\n",
    "fig.update_layout(\n",
    "    title=\"2D Chroma Vector Store Visualization\",\n",
    "    scene=dict(xaxis_title=\"x\", yaxis_title=\"y\"),\n",
    "    width=800,\n",
    "    height=600,\n",
    "    margin=dict(r=20, b=10, l=10, t=40),\n",
    ")\n",
    "\n",
    "fig.show()"
   ]
  },
  {
   "cell_type": "code",
   "execution_count": null,
   "id": "413c2c61",
   "metadata": {},
   "outputs": [],
   "source": []
  },
  {
   "cell_type": "code",
   "execution_count": null,
   "id": "a248a17c",
   "metadata": {},
   "outputs": [],
   "source": []
  }
 ],
 "metadata": {
  "kernelspec": {
   "display_name": "llms",
   "language": "python",
   "name": "python3"
  },
  "language_info": {
   "codemirror_mode": {
    "name": "ipython",
    "version": 3
   },
   "file_extension": ".py",
   "mimetype": "text/x-python",
   "name": "python",
   "nbconvert_exporter": "python",
   "pygments_lexer": "ipython3",
   "version": "3.11.13"
  }
 },
 "nbformat": 4,
 "nbformat_minor": 5
}
