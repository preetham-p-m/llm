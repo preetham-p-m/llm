{
 "cells": [
  {
   "cell_type": "code",
   "execution_count": null,
   "id": "52b3029e",
   "metadata": {},
   "outputs": [],
   "source": [
    "import os\n",
    "import glob\n",
    "from dotenv import load_dotenv\n",
    "import gradio as gr\n",
    "from google import genai"
   ]
  },
  {
   "cell_type": "code",
   "execution_count": null,
   "id": "baea391b",
   "metadata": {},
   "outputs": [],
   "source": [
    "load_dotenv(override=True)"
   ]
  },
  {
   "cell_type": "code",
   "execution_count": null,
   "id": "ecfe3c0b",
   "metadata": {},
   "outputs": [],
   "source": [
    "GEMINI_API_KEY = os.getenv(\"GEMINI_API_KEY\")\n",
    "gemini = genai.Client(api_key=GEMINI_API_KEY)"
   ]
  },
  {
   "cell_type": "code",
   "execution_count": null,
   "id": "a0d2a1ff",
   "metadata": {},
   "outputs": [],
   "source": [
    "context = {}"
   ]
  },
  {
   "cell_type": "code",
   "execution_count": null,
   "id": "1fc8f278",
   "metadata": {},
   "outputs": [],
   "source": [
    "employees = glob.glob(\"./notebooks/knowledge-base/employees/*\")\n",
    "\n",
    "for employee in employees:\n",
    "    name = employee.split(\" \")[-1][:-3]\n",
    "    doc = \"\"\n",
    "    with open(employee, \"r\", encoding=\"utf-8\") as f:\n",
    "        doc = f.read()\n",
    "    context[name] = doc"
   ]
  },
  {
   "cell_type": "code",
   "execution_count": null,
   "id": "ce49c8a4",
   "metadata": {},
   "outputs": [],
   "source": [
    "products = glob.glob(\"./notebooks/knowledge-base/products/*\")\n",
    "\n",
    "for product in products:\n",
    "    product_name = product.split(\"/\")[-1][:-3]\n",
    "    doc = \"\"\n",
    "    with open(product, \"r\", encoding=\"utf-8\") as f:\n",
    "        doc = f.read()\n",
    "    context[product_name] = doc"
   ]
  },
  {
   "cell_type": "code",
   "execution_count": null,
   "id": "3dded1f1",
   "metadata": {},
   "outputs": [],
   "source": [
    "system_message = \"You are an expert in answering accurate questions about Insurellm, the Insurance Tech company. Give brief, accurate answers. If you don't know the answer, say so. Do not make anything up if you haven't been provided with relevant context.\""
   ]
  },
  {
   "cell_type": "code",
   "execution_count": null,
   "id": "1a84b93f",
   "metadata": {},
   "outputs": [],
   "source": [
    "def get_relevant_context(message):\n",
    "    relevant_context = []\n",
    "    for context_title, context_details in context.items():\n",
    "        if context_title.lower() in message.lower():\n",
    "            relevant_context.append(context_details)\n",
    "    return relevant_context"
   ]
  },
  {
   "cell_type": "code",
   "execution_count": null,
   "id": "6651f90d",
   "metadata": {},
   "outputs": [],
   "source": [
    "def add_context(message):\n",
    "    relevant_context = get_relevant_context(message)\n",
    "\n",
    "    result_message = message\n",
    "\n",
    "    if relevant_context:\n",
    "        result_message += \"\\n\\nThe following additional context might be relevant in answering this question:\\n\\n\"\n",
    "        for relevant in relevant_context:\n",
    "            result_message += relevant + \"\\n\\n\"\n",
    "    return result_message"
   ]
  },
  {
   "cell_type": "code",
   "execution_count": null,
   "id": "17b1ec09",
   "metadata": {},
   "outputs": [],
   "source": [
    "def getChatItem(role, prompt):\n",
    "    return {\"role\": role, \"parts\": [{\"text\": prompt}]}\n",
    "\n",
    "\n",
    "def chat(message, history):\n",
    "    contents = []\n",
    "    for item in history:\n",
    "        contents.append(getChatItem(item[\"role\"], item[\"content\"]))\n",
    "    contents.append(getChatItem(\"user\", add_context(message)))\n",
    "\n",
    "    response = gemini.models.generate_content_stream(\n",
    "        model=\"gemini-2.0-flash\",\n",
    "        contents=contents,\n",
    "        config={\"system_instruction\": {\"text\": system_message}},\n",
    "    )\n",
    "\n",
    "    result = \"\"\n",
    "    for chunk in response:\n",
    "        result += chunk.candidates[0].content.parts[0].text or \"\"\n",
    "        yield result"
   ]
  },
  {
   "cell_type": "code",
   "execution_count": null,
   "id": "4473366f",
   "metadata": {},
   "outputs": [],
   "source": [
    "gr.ChatInterface(fn=chat, type=\"messages\").launch()"
   ]
  },
  {
   "cell_type": "code",
   "execution_count": null,
   "id": "2c10c314",
   "metadata": {},
   "outputs": [],
   "source": []
  }
 ],
 "metadata": {
  "kernelspec": {
   "display_name": "llms",
   "language": "python",
   "name": "python3"
  },
  "language_info": {
   "codemirror_mode": {
    "name": "ipython",
    "version": 3
   },
   "file_extension": ".py",
   "mimetype": "text/x-python",
   "name": "python",
   "nbconvert_exporter": "python",
   "pygments_lexer": "ipython3",
   "version": "3.11.13"
  }
 },
 "nbformat": 4,
 "nbformat_minor": 5
}
