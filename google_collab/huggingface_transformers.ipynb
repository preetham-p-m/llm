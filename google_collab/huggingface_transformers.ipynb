{
  "cells": [
    {
      "cell_type": "markdown",
      "source": [
        "#Hugging Face\n",
        "[What 🤗 Transformers can do](https://huggingface.co/docs/transformers/en/task_summary)"
      ],
      "metadata": {
        "id": "jXk3Tnw20YrF"
      }
    },
    {
      "cell_type": "code",
      "execution_count": null,
      "metadata": {
        "id": "So5xxrJMUg6q"
      },
      "outputs": [],
      "source": [
        "!pip install -q transformers datasets diffusers"
      ]
    },
    {
      "cell_type": "markdown",
      "metadata": {
        "id": "HGwIJDx-SwLz"
      },
      "source": []
    },
    {
      "cell_type": "code",
      "execution_count": null,
      "metadata": {
        "colab": {
          "background_save": true
        },
        "id": "Lp2WzV-y690b"
      },
      "outputs": [],
      "source": [
        "import torch\n",
        "from diffusers import DiffusionPipeline, StableDiffusionPipeline\n",
        "from transformers import pipeline\n",
        "from datasets import load_dataset\n",
        "import soundfile as sf\n",
        "from IPython.display import Audio"
      ]
    },
    {
      "cell_type": "code",
      "execution_count": null,
      "metadata": {
        "id": "WwvFT0qV7gRy"
      },
      "outputs": [],
      "source": [
        "classifier = pipeline('sentiment-analysis')\n",
        "classifier(\"I am super excited to be on the way to LLM mastery!\")"
      ]
    },
    {
      "cell_type": "code",
      "execution_count": null,
      "metadata": {
        "id": "x1S8Kct88IrA"
      },
      "outputs": [],
      "source": [
        "pipe = StableDiffusionPipeline.from_pretrained(\"runwayml/stable-diffusion-v1-5\")\n",
        "\n",
        "image = pipe(\"Vacation to kedarnath\").images[0]\n",
        "image.show()"
      ]
    },
    {
      "cell_type": "code",
      "execution_count": null,
      "metadata": {
        "id": "a7iPEDQoI2NL"
      },
      "outputs": [],
      "source": [
        "question_answerer = pipeline(task=\"question-answering\")\n",
        "preds = question_answerer(\n",
        "    question=\"What is the name of the repository?\",\n",
        "    context=\"The name of the repository is huggingface/transformers\",\n",
        ")\n",
        "print(\n",
        "    f\"score: {round(preds['score'], 4)}, start: {preds['start']}, end: {preds['end']}, answer: {preds['answer']}\"\n",
        ")"
      ]
    },
    {
      "cell_type": "code",
      "source": [],
      "metadata": {
        "id": "91ItbreQ3FVc"
      },
      "execution_count": null,
      "outputs": []
    }
  ],
  "metadata": {
    "accelerator": "GPU",
    "colab": {
      "gpuType": "T4",
      "provenance": [],
      "toc_visible": true,
      "mount_file_id": "1X4FfYwwWoxzMTpZUN8AEhvfaLXDRKzOp",
      "authorship_tag": "ABX9TyOVAsUKt+OiJNV66Xdx6UYo"
    },
    "kernelspec": {
      "display_name": "Python 3",
      "name": "python3"
    },
    "language_info": {
      "name": "python"
    }
  },
  "nbformat": 4,
  "nbformat_minor": 0
}